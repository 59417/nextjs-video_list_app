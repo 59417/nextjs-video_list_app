{
 "cells": [
  {
   "cell_type": "markdown",
   "id": "ba5c0438",
   "metadata": {},
   "source": [
    "### Desciption\n",
    "\n",
    "1. ALL_LIST\n",
    "    - keys:\n",
    "    \n",
    "          ['videoid', 'title', 'director', 'cast', 'type', 'description', 'chinese', 'tags_no', 'genres_no']\n",
    "          \n",
    "2. TAGS_DICT\n",
    "    - keys:\n",
    "    \n",
    "          ['genre_number', 'chi_tag', 'eng_tag']\n",
    "          \n",
    "3. CATEGORY_IDS\n",
    "    - keys:\n",
    "    \n",
    "          ['movies', 'series', 'documentaries', 'others']\n",
    "          \n",
    "4. FAVORITE_IDS\n",
    "    - keys:\n",
    "    \n",
    "          ['all', 'movie', 'series', 'conjuring', 'rm', 'hc', 'op']"
   ]
  },
  {
   "cell_type": "code",
   "execution_count": null,
   "id": "4ddcb55b",
   "metadata": {},
   "outputs": [],
   "source": []
  },
  {
   "cell_type": "code",
   "execution_count": null,
   "id": "1673565d",
   "metadata": {},
   "outputs": [],
   "source": []
  },
  {
   "cell_type": "markdown",
   "id": "f9515349",
   "metadata": {},
   "source": [
    "### py data"
   ]
  },
  {
   "cell_type": "code",
   "execution_count": 270,
   "id": "b1f09e04",
   "metadata": {
    "scrolled": true
   },
   "outputs": [
    {
     "name": "stdout",
     "output_type": "stream",
     "text": [
      "{'movies': ['a76eb312', 'f871de48', '834af1f2', 'd9cbd1b9', '2a17b7d2', 'e6a58441', 'deaab5da', '470c7a89', '7e2d47f6', '39e4e1b2', 'a3079261', 'e93aea82', '47e562a5', '7fd6f4e8', '59a2b0a6', 'b05809fe', '6e5569a8', '4770c38d', '2a4593c1', 'f07b66ed', 'ecb5ee4a', '5dc81f93', '2c1a7114', '24709b09', '9232a1ae', 'a7dc9d69', '4d77e988', 'c62a9d01', '56b040c5', '31da0f91', 'd6984e30', '5590f1dc', 'e7a1e4f1', 'c119b26d', '7bb64b40', 'ea881c1e', 'eaa37a9a', 'a313f410', '32bef61b', '12bdf641', '74e6a779', '6103e6ef', '5d83994b', '26df115a'], 'series': ['cf4cf441', '7023c002', '84d64524', 'd03230c6', '510ab3c5', '78331f6b', 'b4c05917', '640f8025', 'e3076224', 'e7912e03', '694d1c0e', '5e2ca520', '63ea4486', '22fb0f10', '88fb0b5d', '1ca4288a', '1ee206b8', 'e5ac0ea2', '9ea88656', '84d67fa3', '319232a9', 'bf3b7fde', 'cd12841d', '04e7b814', '7e4b0bfb', '0ad842dc', '1c94a0eb', '6520dc93', '36c9deaa', '39ef846d', '470f0306', 'f9851e69', 'afbd995b', 'f355501f', '08883de8', 'd73fdca5', '54743325', 'f2e9b64e', '73965e6e', 'e2060c4a', '6eaf4a1f', '07dd3285', 'db2adb92', '76e69768', '790ace0a', 'fb44c1ae'], 'documentaries': ['bf8ae762', 'a041fc51', 'f05d605a', 'b4a45bbe', '3e28ec17', '24296ba8', 'df06d71c', '4283527d', 'dfd53db0', '41c2bd53', 'e4b92928', '75709477', 'b2fd236d', '75ae792a', '60543567', '85507cbc', 'f00b3d0d', 'd8de37db', '1b126a37', '3ffa2f36', 'a8bc6712', '64058114', '08e6f7af', '18713ede', '9c96c3be', '481c574c', '02bde40d', '8212853c'], 'others': ['6cb7dea6', '64869afe', '7e4b5433', '247e10de', '1d8b8475', '444a179b', '4e0d7c6a', 'ab34cc8a', '369bde32', '1695352b', 'a0dabea2']}\n"
     ]
    }
   ],
   "source": [
    "print(CATEGORY_IDS_py)"
   ]
  },
  {
   "cell_type": "code",
   "execution_count": 269,
   "id": "2c7c6976",
   "metadata": {},
   "outputs": [
    {
     "name": "stdout",
     "output_type": "stream",
     "text": [
      "44\n",
      "46\n",
      "28\n",
      "11\n"
     ]
    }
   ],
   "source": [
    "for i in CATEGORY_IDS_py:\n",
    "    print(len(CATEGORY_IDS_py[i]))"
   ]
  },
  {
   "cell_type": "code",
   "execution_count": 224,
   "id": "4f4d8ff1",
   "metadata": {},
   "outputs": [
    {
     "name": "stdout",
     "output_type": "stream",
     "text": [
      "{'all': ['78331f6b', '7e4b0bfb', '9c96c3be', '2a4593c1', 'afbd995b', 'f05d605a', '7e4b5433', '75709477', '3e28ec17', '6eaf4a1f', '07dd3285', '5d83994b', 'dfd53db0', 'f871de48', 'd03230c6', '5e2ca520', '319232a9', 'b05809fe', '6cb7dea6', '24296ba8', 'e4b92928', '1d8b8475', 'f2e9b64e', '73965e6e', '02bde40d', '444a179b', 'db2adb92', '8212853c', '790ace0a', '84d64524', '510ab3c5', 'd8de37db', '470c7a89', 'cd12841d', 'd73fdca5', '6103e6ef', 'a041fc51', '76e69768', 'fb44c1ae', '63ea4486', '1ca4288a', '2a17b7d2', '60543567', 'ecb5ee4a', 'b4a45bbe', 'bf8ae762', 'c119b26d', '36c9deaa', 'ab34cc8a', '64869afe', '74e6a779', '1b126a37', '247e10de', '7bb64b40', '1c94a0eb', 'e7a1e4f1', '39ef846d', 'cf4cf441', '9232a1ae', '32bef61b', '12bdf641'], 'movie': ['2a4593c1', '5d83994b', 'f871de48', 'b05809fe', '470c7a89', '6103e6ef', '2a17b7d2', 'ecb5ee4a', 'c119b26d', '74e6a779', 'e7a1e4f1', '7bb64b40', '9232a1ae', '32bef61b', '12bdf641'], 'series': ['78331f6b', '7e4b0bfb', 'afbd995b', '6eaf4a1f', '07dd3285', 'd03230c6', '5e2ca520', '319232a9', 'f2e9b64e', '73965e6e', 'db2adb92', '790ace0a', '84d64524', '510ab3c5', 'cd12841d', 'd73fdca5', '76e69768', 'fb44c1ae', '63ea4486', '1ca4288a', '36c9deaa', '9c96c3be', 'f05d605a', '7e4b5433', '75709477', '3e28ec17', 'dfd53db0', '6cb7dea6', '24296ba8', 'e4b92928', '1d8b8475', '02bde40d', '444a179b', '8212853c', 'd8de37db', 'a041fc51', '60543567', 'b4a45bbe', 'bf8ae762', 'ab34cc8a', '64869afe', '1b126a37', '247e10de', 'cf4cf441', '1c94a0eb', '39ef846d'], 'conjuring': ['ecb5ee4a', '7bb64b40'], 'rm': ['1c94a0eb', 'e7a1e4f1', '39ef846d'], 'hc': ['cf4cf441', 'd03230c6', '78331f6b', '73965e6e', 'fb44c1ae'], 'op': ['12bdf641', 'b05809fe', '9232a1ae', '32bef61b', '73965e6e']}\n"
     ]
    }
   ],
   "source": [
    "print(FAVORITE_IDS_py)"
   ]
  },
  {
   "cell_type": "code",
   "execution_count": 225,
   "id": "64eb2d36",
   "metadata": {},
   "outputs": [
    {
     "name": "stdout",
     "output_type": "stream",
     "text": [
      "61\n",
      "15\n",
      "46\n",
      "2\n",
      "3\n",
      "5\n",
      "5\n"
     ]
    }
   ],
   "source": [
    "for i in FAVORITE_IDS_py:\n",
    "    print(len(FAVORITE_IDS_py[i]))"
   ]
  },
  {
   "cell_type": "markdown",
   "id": "6f0e82c8",
   "metadata": {},
   "source": [
    "### source datas\n",
    "\n",
    "- ALL_LIST\n",
    "- TEMP_LIST \n",
    "- TAGS_DICT\n",
    "- CATEGORY_IDS\n",
    "- FAVORITE_IDS"
   ]
  },
  {
   "cell_type": "code",
   "execution_count": 1,
   "id": "046aa24d",
   "metadata": {},
   "outputs": [],
   "source": [
    "import json\n",
    "\n",
    "with open('/Users/a17/Desktop/nextjs/video-list/netflix_keep129.json') as f:\n",
    "    ALL_LIST = json.load(f)  # dict"
   ]
  },
  {
   "cell_type": "code",
   "execution_count": 2,
   "id": "d8eb2d28",
   "metadata": {},
   "outputs": [],
   "source": [
    "TEMP_LIST = [{\n",
    "    \"videoid\": \"cf4cf441\", \"title\": \"Hold Tight\", \"type\": \"Limited Series\",\n",
    "    \"director\": [\"Harlan Coben\"], \"chinese\": \"什麼都別說\",\n",
    "    \"cast\": [\"Magdalena Boczarska\", \"Leszek Lichota\", \"Krzysztof Oleksyn\"],\n",
    "    \"description\": \"This engrossing thriller series is based on the Harlan Coben novel of the same name.\",\n",
    "    \"tags_no\": [108911, 100055], \"genres_no\": [81422107, 4366, 26146]\n",
    "},\n",
    "{\n",
    "    \"videoid\": \"7023c002\", \"title\": \"13 Commandments\", \"type\": \"1 Season\",\n",
    "    \"director\": [], \"chinese\": \"十三誡\",\n",
    "    \"cast\": [\"Dirk Van Dijck\", \"Marie Vinck\", \"Karlijn Sileghem\", \"Bert Haelvoet\"],\n",
    "    \"description\": \"Thou shalt not kill.\",\n",
    "    \"tags_no\": [108910, 100044], \"genres_no\": [81427743, 4366, 26146]\n",
    "},\n",
    "{\n",
    "    \"videoid\": \"a76eb312\", \"title\": \"Ouija\", \"type\": \"1h 29m\",\n",
    "    \"director\": [\"Stiles White\"], \"chinese\": \"碟仙\",\n",
    "    \"cast\": [\"Olivia Cooke\", \"Ana Coto\", \"Daren Kagasoff\", \"Bianca A. Santos\", \"Douglas Smith\"],\n",
    "    \"description\": \"When their friend mysteriously dies, grieving teens seek connection via an antique ouija board that conjures up a nightmare from the other side.\",\n",
    "    \"tags_no\": [1159493, 8711], \"genres_no\": [1159493, 8711]\n",
    "}]"
   ]
  },
  {
   "cell_type": "code",
   "execution_count": 3,
   "id": "b8667c24",
   "metadata": {},
   "outputs": [],
   "source": [
    "TAGS_DICT = [\n",
    "  {'genre_number': 108228, 'chi_tag': '腎上腺素飆升', 'eng_tag': 'Adrenaline Rush'},\n",
    "  {'genre_number': 108910, 'chi_tag': '不寒而慄', 'eng_tag': 'Chilling'},\n",
    "  {'genre_number': 31574, 'chi_tag': '經典電影', 'eng_tag': 'Classic Movies'},\n",
    "  {'genre_number': 100036, 'chi_tag': '具爭議性', 'eng_tag': 'Controversial'},\n",
    "  {'genre_number': 81418679, 'chi_tag': '丹麥', 'eng_tag': 'Danish'},\n",
    "  {'genre_number': 2243108, 'chi_tag': '紀錄片', 'eng_tag': 'Documentary Films'},\n",
    "  {'genre_number': 100058, 'chi_tag': '好心情', 'eng_tag': 'Feel-Good'},\n",
    "  {'genre_number': 81399454, 'chi_tag': '法國', 'eng_tag': 'French'},\n",
    "  {'genre_number': 81417795, 'chi_tag': '德國', 'eng_tag': 'German'},\n",
    "  {'genre_number': 100045, 'chi_tag': '感人', 'eng_tag': 'Heartfelt'},\n",
    "  {'genre_number': 58806, 'chi_tag': '印地語電影', 'eng_tag': 'Hindi-Language Movies'},\n",
    "  {'genre_number': 81418683, 'chi_tag': '印度', 'eng_tag': 'Indian'},\n",
    "  {'genre_number': 3066432, 'chi_tag': '親密接觸', 'eng_tag': 'Intimate'},\n",
    "  {'genre_number': 3053904, 'chi_tag': '偵察', 'eng_tag': 'Investigative'},\n",
    "  {'genre_number': 81417798, 'chi_tag': '義大利', 'eng_tag': 'Italian'},\n",
    "  {'genre_number': 81418687, 'chi_tag': '日本', 'eng_tag': 'Japanese'},\n",
    "  {'genre_number': 52843, 'chi_tag': '兒童音樂', 'eng_tag': 'Kids Music'},\n",
    "  {'genre_number': 81417800, 'chi_tag': '墨西哥', 'eng_tag': 'Mexican'},\n",
    "  {'genre_number': 100049, 'chi_tag': '出人意料', 'eng_tag': 'Mind-Bending'},\n",
    "  {'genre_number': 13335, 'chi_tag': '音樂劇', 'eng_tag': 'Musicals'},\n",
    "  {'genre_number': 81422105, 'chi_tag': '挪威', 'eng_tag': 'Norwegian'},\n",
    "  {'genre_number': 1632671, 'chi_tag': '不落俗套', 'eng_tag': 'Offbeat'},\n",
    "  {'genre_number': 108911, 'chi_tag': '不祥', 'eng_tag': 'Ominous'},\n",
    "  {'genre_number': 108393, 'chi_tag': '引發爭論', 'eng_tag': 'Provocative'},\n",
    "  {'genre_number': 100051, 'chi_tag': '粗鄙笑鬧', 'eng_tag': 'Raunchy'},\n",
    "  {'genre_number': 1522234, 'chi_tag': '浪漫動漫', 'eng_tag': 'Romance Anime'},\n",
    "  {'genre_number': 4922, 'chi_tag': '諷刺', 'eng_tag': 'Satires'},\n",
    "  {'genre_number': 108392, 'chi_tag': '醜聞', 'eng_tag': 'Scandalous'},\n",
    "  {'genre_number': 2300970, 'chi_tag': '科幻電影', 'eng_tag': 'Sci-Fi Movies'},\n",
    "  {'genre_number': 100054, 'chi_tag': '感性', 'eng_tag': 'Sentimental'},\n",
    "  {'genre_number': 3947, 'chi_tag': '社會議題劇情片', 'eng_tag': 'Social Issue Dramas'},\n",
    "  {'genre_number': 2691116, 'chi_tag': '社會議題電視戲劇', 'eng_tag': 'Social Issue TV Dramas'},\n",
    "  {'genre_number': 81399657, 'chi_tag': '西班牙', 'eng_tag': 'Spanish'},\n",
    "  {'genre_number': 1819174, 'chi_tag': '書籍改編節目', 'eng_tag': 'TV Shows Based on Books'},\n",
    "  {'genre_number': 2192320, 'chi_tag': '漫畫改編節目', 'eng_tag': 'TV Shows Based on Comics'},\n",
    "  {'genre_number': 89811, 'chi_tag': '驚悚節目', 'eng_tag': 'TV Thrillers'},\n",
    "  {'genre_number': 81417804, 'chi_tag': '台灣', 'eng_tag': 'Taiwanese'},\n",
    "  {'genre_number': 60951, 'chi_tag': '青少年節目', 'eng_tag': 'Teen TV Shows'},\n",
    "  {'genre_number': 81050, 'chi_tag': '真實罪案紀錄片', 'eng_tag': 'True Crime Documentaries'},\n",
    "  {'genre_number': 1159493, 'chi_tag': '美國電影', 'eng_tag': 'US Movies'},\n",
    "  {'genre_number': 72404, 'chi_tag': '美國節目', 'eng_tag': 'US TV Shows'},\n",
    "  {'genre_number': 81329745, 'chi_tag': '綜藝節目', 'eng_tag': 'Variety TV'},\n",
    "  {'genre_number': 100034, 'chi_tag': '暴力', 'eng_tag': 'Violent'},\n",
    "  {'genre_number': 452, 'chi_tag': '劇情動漫', 'eng_tag': 'Drama Anime'},\n",
    "  {'genre_number': 7700, 'chi_tag': '西部電影', 'eng_tag': 'Westerns'},\n",
    "  {'genre_number': 5480, 'chi_tag': '寶萊塢電影', 'eng_tag': 'Bollywood Movies'},\n",
    "  {'genre_number': 4370, 'chi_tag': '運動電影', 'eng_tag': 'Sports Movies'},\n",
    "  {'genre_number': 8933, 'chi_tag': '驚悚片', 'eng_tag': 'Thriller Movies'},\n",
    "  {'genre_number': 12123, 'chi_tag': '時代劇', 'eng_tag': 'Period Pieces'},\n",
    "  {'genre_number': 783, 'chi_tag': '親子片', 'eng_tag': 'Children & Family Movies'},\n",
    "  {'genre_number': 3063, 'chi_tag': '動漫電影', 'eng_tag': 'Anime Movies'},\n",
    "  {'genre_number': 2340, 'chi_tag': '青少年電影', 'eng_tag': 'Teen Movies'},\n",
    "  {'genre_number': 920, 'chi_tag': '真實故事改編電影', 'eng_tag': 'Movies Based on Real Life'},\n",
    "  {'genre_number': 5977, 'chi_tag': '多元性別電影', 'eng_tag': 'LGBTQ Movies'},\n",
    "  {'genre_number': 5475, 'chi_tag': '浪漫喜劇片', 'eng_tag': 'Romantic Comedies'},\n",
    "  {'genre_number': 9994, 'chi_tag': '懸疑推理', 'eng_tag': 'Mysteries'},\n",
    "  {'genre_number': 11714, 'chi_tag': '劇情影集節目', 'eng_tag': 'TV Dramas'},\n",
    "  {'genre_number': 26146, 'chi_tag': '犯罪節目', 'eng_tag': 'Crime TV Shows'},\n",
    "  {'genre_number': 7077, 'chi_tag': '獨立電影', 'eng_tag': 'Independent Movies'},\n",
    "  {'genre_number': 5824, 'chi_tag': '犯罪電影', 'eng_tag': 'Crime Movies'},\n",
    "  {'genre_number': 1365, 'chi_tag': '冒險動作', 'eng_tag': 'Action & Adventure'},\n",
    "  {'genre_number': 8883, 'chi_tag': '浪漫電影', 'eng_tag': 'Romantic Movies'},\n",
    "  {'genre_number': 5763, 'chi_tag': '劇情片', 'eng_tag': 'Dramas'},\n",
    "  {'genre_number': 9889, 'chi_tag': '書籍改編電影', 'eng_tag': 'Movies Based on Books'},\n",
    "  {'genre_number': 4366, 'chi_tag': '懸疑推理節目', 'eng_tag': 'TV Mysteries'},\n",
    "  {'genre_number': 8711, 'chi_tag': '恐怖片', 'eng_tag': 'Horror Movies'},\n",
    "  {'genre_number': 6548, 'chi_tag': '喜劇片', 'eng_tag': 'Comedies'},\n",
    "  {'genre_number': 2595, 'chi_tag': '科學及自然紀錄片', 'eng_tag': 'Science & Nature Docs'},\n",
    "  {'genre_number': 3675, 'chi_tag': '社會文化紀錄片', 'eng_tag': 'Social & Cultural Docs'},\n",
    "  {'genre_number': 448, 'chi_tag': '懸疑電影', 'eng_tag': 'Suspenseful Movies'},\n",
    "  {'genre_number': 10619, 'chi_tag': '啟發人心的電影', 'eng_tag': 'Inspiring Movies'},\n",
    "  {'genre_number': 4136, 'chi_tag': '感動人心的電影', 'eng_tag': 'Emotional Movies'},\n",
    "  {'genre_number': 2351, 'chi_tag': '滑稽電影', 'eng_tag': 'Goofy Movies'},\n",
    "  {'genre_number': 4444, 'chi_tag': '另類幽默電影', 'eng_tag': 'Quirky Movies'},\n",
    "  {'genre_number': 5685, 'chi_tag': '韓國電影', 'eng_tag': 'Korean Movies'},\n",
    "  {'genre_number': 1813, 'chi_tag': '考驗腦力的電影', 'eng_tag': 'Cerebral Movies'},\n",
    "  {'genre_number': 6057, 'chi_tag': '嚇人電影', 'eng_tag': 'Scary Movies'},\n",
    "  {'genre_number': 869, 'chi_tag': '黑色喜劇', 'eng_tag': 'Dark Comedies'},\n",
    "  {'genre_number': 5343, 'chi_tag': '刺激電影', 'eng_tag': 'Exciting Movies'},\n",
    "  {'genre_number': 5066, 'chi_tag': '低調內斂的電影', 'eng_tag': 'Understated Movies'},\n",
    "  {'genre_number': 2943, 'chi_tag': '機智風趣的電影', 'eng_tag': 'Witty Movies'},\n",
    "  {'genre_number': 3223, 'chi_tag': '硬漢電影', 'eng_tag': 'Gritty Movies'},\n",
    "  {'genre_number': 100040, 'chi_tag': '火熱', 'eng_tag': 'Steamy'},\n",
    "  {'genre_number': 100052, 'chi_tag': '浪漫', 'eng_tag': 'Romantic'},\n",
    "  {'genre_number': 100055, 'chi_tag': '懸疑', 'eng_tag': 'Suspenseful'},\n",
    "  {'genre_number': 100047, 'chi_tag': '啟發人心', 'eng_tag': 'Inspiring'},\n",
    "  {'genre_number': 100039, 'chi_tag': '感動人心', 'eng_tag': 'Emotional'},\n",
    "  {'genre_number': 100043, 'chi_tag': '滑稽', 'eng_tag': 'Goofy'},\n",
    "  {'genre_number': 51056, 'chi_tag': '親子片', 'eng_tag': 'Family Movies'},\n",
    "  {'genre_number': 100050, 'chi_tag': '另類幽默', 'eng_tag': 'Quirky'},\n",
    "  {'genre_number': 81427756, 'chi_tag': '韓國', 'eng_tag': 'Korean'},\n",
    "  {'genre_number': 100033, 'chi_tag': '考驗腦力', 'eng_tag': 'Cerebral'},\n",
    "  {'genre_number': 100053, 'chi_tag': '嚇人', 'eng_tag': 'Scary'},\n",
    "  {'genre_number': 100037, 'chi_tag': '黑暗', 'eng_tag': 'Dark'},\n",
    "  {'genre_number': 100041, 'chi_tag': '刺激', 'eng_tag': 'Exciting'},\n",
    "  {'genre_number': 100057, 'chi_tag': '低調內斂', 'eng_tag': 'Understated'},\n",
    "  {'genre_number': 100060, 'chi_tag': '機智風趣', 'eng_tag': 'Witty'},\n",
    "  {'genre_number': 100044, 'chi_tag': '硬漢', 'eng_tag': 'Gritty'},\n",
    "  {'genre_number': 3276033, 'chi_tag': '科幻電影', 'eng_tag': 'Sci-Fi Movies'},\n",
    "  {'genre_number': 76802, 'chi_tag': '斯堪地那維亞節目', 'eng_tag': 'Scandinavian TV Shows'},\n",
    "  {'genre_number': 10375, 'chi_tag': '喜劇節目', 'eng_tag': 'TV Comedies'},\n",
    "  {'genre_number': 2738568, 'chi_tag': '生活品味', 'eng_tag': 'Lifestyle'},\n",
    "  {'genre_number': 3300242, 'chi_tag': '科幻節目', 'eng_tag': 'Sci-Fi TV'},\n",
    "  {'genre_number': 81422107, 'chi_tag': '波蘭', 'eng_tag': 'Polish'},\n",
    "  {'genre_number': 81422109, 'chi_tag': '泰國', 'eng_tag': 'Thai'},\n",
    "  {'genre_number': 6814, 'chi_tag': '特殊興趣', 'eng_tag': 'Special Interest'},\n",
    "  {'genre_number': 81427743, 'chi_tag': '比利時', 'eng_tag': 'Belgian'},\n",
    "  {'genre_number': 1623841, 'chi_tag': '校園動漫', 'eng_tag': 'School Anime'},\n",
    "  {'genre_number': 4006, 'chi_tag': '軍事紀錄片', 'eng_tag': 'Military Documentaries'},\n",
    "  {'genre_number': 11177, 'chi_tag': '卡通節目', 'eng_tag': 'TV Cartoons'},\n",
    "  {'genre_number': 81418154, 'chi_tag': '瑞典', 'eng_tag': 'Swedish'},\n",
    "  {'genre_number': 52780, 'chi_tag': '科學及自然節目', 'eng_tag': 'Science &amp; Nature TV'},\n",
    "  {'genre_number': 1002031, 'chi_tag': '奇幻節目', 'eng_tag': 'Fantasy TV Shows'},\n",
    "  {'genre_number': 10673, 'chi_tag': '冒險動作節目', 'eng_tag': 'TV Action &amp; Adventure'},\n",
    "  {'genre_number': 81216565, 'chi_tag': '懸疑驚悚動漫', 'eng_tag': 'Mystery &amp; Thriller Anime'},\n",
    "  {'genre_number': 3903, 'chi_tag': '情境劇', 'eng_tag': 'Sitcoms'},\n",
    "  {'genre_number': 81417793, 'chi_tag': '巴西', 'eng_tag': 'Brazilian'},\n",
    "  {'genre_number': 3030851, 'chi_tag': '脫口秀', 'eng_tag': 'Talk Shows'},\n",
    "  {'genre_number': 3652, 'chi_tag': '傳記片', 'eng_tag': 'Biographical Documentaries'},\n",
    "  {'genre_number': 2072262, 'chi_tag': '家庭節目', 'eng_tag': 'Family Watch Together TV'},\n",
    "  {'genre_number': 26056, 'chi_tag': '浪漫電視戲劇', 'eng_tag': 'Romantic TV Dramas'},\n",
    "  {'genre_number': 25801, 'chi_tag': '法庭節目', 'eng_tag': 'Courtroom TV Shows'},\n",
    "  {'genre_number': 25807, 'chi_tag': '政治節目', 'eng_tag': 'Political TV Shows'},\n",
    "  {'genre_number': 27346, 'chi_tag': '兒童節目', 'eng_tag': \"Kids' TV\"},\n",
    "  {'genre_number': 81399656, 'chi_tag': '英國', 'eng_tag': 'British'},\n",
    "  {'genre_number': 9833, 'chi_tag': '實境節目', 'eng_tag': 'Reality TV'},\n",
    "  {'genre_number': 7018, 'chi_tag': '政治紀錄片', 'eng_tag': 'Political Documentaries'},\n",
    "  {'genre_number': 34028, 'chi_tag': '醫學節目', 'eng_tag': 'Medical TV Shows'},\n",
    "  {'genre_number': 81562604, 'chi_tag': '紀錄片系列', 'eng_tag': 'Docuseries'},\n",
    "  {'genre_number': 1023212, 'chi_tag': '居家園藝實境節目', 'eng_tag': 'Home & Garden Reality TV'},\n",
    "  {'genre_number': 49266, 'chi_tag': '競賽實境節目', 'eng_tag': 'Competition Reality TV'},\n",
    "  {'genre_number': 83059, 'chi_tag': '恐怖節目', 'eng_tag': 'TV Horror'},\n",
    "  {'genre_number': 72436, 'chi_tag': '食物及旅遊節目', 'eng_tag': 'Food &amp; Travel TV'},\n",
    "  {'genre_number': 81562614, 'chi_tag': '社會文化紀錄片', 'eng_tag': 'Social &amp; Cultural Docs'}\n",
    "]"
   ]
  },
  {
   "cell_type": "code",
   "execution_count": 4,
   "id": "b9a3a16d",
   "metadata": {},
   "outputs": [],
   "source": [
    "CATEGORY_IDS = {\n",
    "  'movies': ['a76eb312', 'f871de48', '834af1f2', 'd9cbd1b9', '2a17b7d2', 'e6a58441', 'deaab5da', '470c7a89', '7e2d47f6', '39e4e1b2', 'a3079261', 'e93aea82', '47e562a5', '7fd6f4e8', '59a2b0a6', 'b05809fe', '6e5569a8', '4770c38d', '2a4593c1', 'f07b66ed', 'ecb5ee4a', '5dc81f93', '2c1a7114', '24709b09', '9232a1ae', 'a7dc9d69', '4d77e988', 'c62a9d01', '56b040c5', '31da0f91', 'd6984e30', '5590f1dc', 'e7a1e4f1', 'c119b26d', '7bb64b40', 'ea881c1e', 'eaa37a9a', 'a313f410', '32bef61b', '12bdf641', '74e6a779', '6103e6ef', '5d83994b', '26df115a'], \n",
    "  'series': ['cf4cf441', '7023c002', '84d64524', 'd03230c6', '510ab3c5', '78331f6b', 'b4c05917', '640f8025', 'e3076224', 'e7912e03', '694d1c0e', '5e2ca520', '63ea4486', '22fb0f10', '88fb0b5d', '1ca4288a', '1ee206b8', 'e5ac0ea2', '9ea88656', '84d67fa3', '319232a9', 'bf3b7fde', 'cd12841d', '04e7b814', '7e4b0bfb', '0ad842dc', '1c94a0eb', '6520dc93', '36c9deaa', '39ef846d', 'f9851e69', 'afbd995b', 'f355501f', '08883de8', 'd73fdca5', '54743325', 'f2e9b64e', '73965e6e', 'e2060c4a', '6eaf4a1f', '07dd3285', 'db2adb92', '76e69768', '790ace0a', 'fb44c1ae'], \n",
    "  'documentaries': ['bf8ae762', 'a041fc51', 'f05d605a', 'b4a45bbe', '3e28ec17', '24296ba8', 'df06d71c', '4283527d', 'dfd53db0', '41c2bd53', 'e4b92928', '75709477', 'b2fd236d', '75ae792a', '60543567', '85507cbc', 'f00b3d0d', 'd8de37db', '1b126a37', '3ffa2f36', 'a8bc6712', '64058114', '08e6f7af', '18713ede', '9c96c3be', '481c574c', '02bde40d', '8212853c'], \n",
    "  'others': ['6cb7dea6', '64869afe', '7e4b5433', '247e10de', '1d8b8475', '247e10de', '444a179b', '4e0d7c6a', 'ab34cc8a', '369bde32', '1695352b', 'a0dabea2', '470f0306']\n",
    "}"
   ]
  },
  {
   "cell_type": "code",
   "execution_count": 5,
   "id": "2d54c663",
   "metadata": {},
   "outputs": [],
   "source": [
    "FAVORITE_IDS = {\n",
    "    'all': ['78331f6b', '7e4b0bfb', '9c96c3be', '2a4593c1', 'afbd995b', 'f05d605a', '7e4b5433', '75709477', '3e28ec17', '6eaf4a1f', '07dd3285', '5d83994b', 'dfd53db0', 'f871de48', 'd03230c6', '5e2ca520', '319232a9', 'b05809fe', '6cb7dea6', '24296ba8', 'e4b92928', '1d8b8475', 'f2e9b64e', '73965e6e', '02bde40d', '444a179b', 'db2adb92', '8212853c', '790ace0a', '84d64524', '510ab3c5', 'd8de37db', '470c7a89', 'cd12841d', 'd73fdca5', '6103e6ef', 'a041fc51', '76e69768', 'fb44c1ae', '63ea4486', '1ca4288a', '2a17b7d2', '60543567', 'ecb5ee4a', 'b4a45bbe', 'bf8ae762', 'c119b26d', '36c9deaa', 'ab34cc8a', '64869afe', '74e6a779', '1b126a37', '247e10de', '7bb64b40', '1c94a0eb', 'e7a1e4f1', '39ef846d', 'cf4cf441', '9232a1ae', '32bef61b', '12bdf641'], \n",
    "    'movie': ['2a4593c1', '5d83994b', 'f871de48', 'b05809fe', '470c7a89', '6103e6ef', '2a17b7d2', 'ecb5ee4a', 'c119b26d', '74e6a779', 'e7a1e4f1', '7bb64b40', '9232a1ae', '32bef61b', '12bdf641'], \n",
    "    'series': ['78331f6b', '7e4b0bfb', 'afbd995b', '6eaf4a1f', '07dd3285', 'd03230c6', '5e2ca520', '319232a9', 'f2e9b64e', '73965e6e', 'db2adb92', '790ace0a', '84d64524', '510ab3c5', 'cd12841d', 'd73fdca5', '76e69768', 'fb44c1ae', '63ea4486', '1ca4288a', '36c9deaa', '9c96c3be', 'f05d605a', '7e4b5433', '75709477', '3e28ec17', 'dfd53db0', '6cb7dea6', '24296ba8', 'e4b92928', '1d8b8475', '02bde40d', '444a179b', '8212853c', 'd8de37db', 'a041fc51', '60543567', 'b4a45bbe', 'bf8ae762', 'ab34cc8a', '64869afe', '1b126a37', '247e10de', 'cf4cf441', '1c94a0eb', '39ef846d'], \n",
    "    'conjuring': ['ecb5ee4a', '7bb64b40'], \n",
    "    'rm': ['1c94a0eb', 'e7a1e4f1', '39ef846d'], \n",
    "    'hc': ['cf4cf441', 'd03230c6', '78331f6b', '73965e6e', 'fb44c1ae'], \n",
    "    'op': ['12bdf641', 'b05809fe', '9232a1ae', '32bef61b', '73965e6e']\n",
    "}"
   ]
  },
  {
   "cell_type": "code",
   "execution_count": null,
   "id": "7bbb100c",
   "metadata": {},
   "outputs": [],
   "source": []
  }
 ],
 "metadata": {
  "kernelspec": {
   "display_name": "Python 3",
   "language": "python",
   "name": "python3"
  },
  "language_info": {
   "codemirror_mode": {
    "name": "ipython",
    "version": 3
   },
   "file_extension": ".py",
   "mimetype": "text/x-python",
   "name": "python",
   "nbconvert_exporter": "python",
   "pygments_lexer": "ipython3",
   "version": "3.8.8"
  }
 },
 "nbformat": 4,
 "nbformat_minor": 5
}
